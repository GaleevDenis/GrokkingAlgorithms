{
 "cells": [
  {
   "cell_type": "code",
   "execution_count": null,
   "metadata": {},
   "outputs": [],
   "source": [
    "def findSmallest(arr): # Функция для поиска наименьшего элемента массива\n",
    "    smallest = arr[0]\n",
    "    smallest_index = 0\n",
    "    for i in range(1, len(arr)):\n",
    "        if arr[i] < smallest:\n",
    "            smallest = arr[i]\n",
    "            smallest_index = i\n",
    "    return smallest_index\n",
    "\n",
    "def selectionSort(arr): # Функция сортивки выбором, O(n**2) - медленная\n",
    "    newArr = []\n",
    "    for i in range(len(arr)):\n",
    "        smallest = findSmallest(arr)\n",
    "        newArr.append(arr.pop(smallest))\n",
    "    return newArr\n",
    "\n",
    "print(selectionSort([5, 3, 6, 2, 10]))"
   ]
  },
  {
   "cell_type": "code",
   "execution_count": null,
   "metadata": {},
   "outputs": [],
   "source": [
    "def countdown(i): # Функция отсчета от 3 до 1 с рекурсией, функция ссылается на саму себя, должна содержать базовый и рекусерсивный случай выхода из функции\n",
    "    print(i)\n",
    "    if i <=1:\n",
    "        return\n",
    "    else:\n",
    "        countdown(i-1)\n",
    "\n",
    "print(countdown(3))"
   ]
  },
  {
   "cell_type": "code",
   "execution_count": 1,
   "metadata": {},
   "outputs": [
    {
     "name": "stdout",
     "output_type": "stream",
     "text": [
      "<class 'list'>\n",
      "None\n"
     ]
    }
   ],
   "source": [
    "def sum(list):\n",
    "    if len(list) == 0:\n",
    "        return\n",
    "    elif len(list) == 1:\n",
    "        list = list[0]\n",
    "    else:\n",
    "        for i in range(len(list)):\n",
    "            list[i] + sum(list[i:])\n",
    "print(list)\n",
    "\n",
    "print(sum([5,6,8]))"
   ]
  },
  {
   "cell_type": "code",
   "execution_count": 5,
   "metadata": {},
   "outputs": [
    {
     "name": "stdout",
     "output_type": "stream",
     "text": [
      "0\n"
     ]
    }
   ],
   "source": [
    "k = []\n",
    "if len(k) == 0:\n",
    "    print(\"0\")\n",
    "elif len(k) == 1:\n",
    "    print(\"1\")\n",
    "else:\n",
    "    print(\"много\")"
   ]
  },
  {
   "cell_type": "code",
   "execution_count": null,
   "metadata": {},
   "outputs": [],
   "source": []
  }
 ],
 "metadata": {
  "kernelspec": {
   "display_name": "base",
   "language": "python",
   "name": "python3"
  },
  "language_info": {
   "codemirror_mode": {
    "name": "ipython",
    "version": 3
   },
   "file_extension": ".py",
   "mimetype": "text/x-python",
   "name": "python",
   "nbconvert_exporter": "python",
   "pygments_lexer": "ipython3",
   "version": "3.10.9"
  },
  "orig_nbformat": 4
 },
 "nbformat": 4,
 "nbformat_minor": 2
}
